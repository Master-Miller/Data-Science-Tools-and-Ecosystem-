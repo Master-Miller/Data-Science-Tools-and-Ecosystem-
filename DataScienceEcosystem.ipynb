{
 "cells": [
  {
   "cell_type": "markdown",
   "id": "179822f1-15ac-479e-ae13-4c4e81eaaff6",
   "metadata": {},
   "source": [
    "Data Science Tools and Ecosystem"
   ]
  },
  {
   "cell_type": "markdown",
   "id": "2ca2f73b-1f46-4d39-a7f4-31a8490f91b6",
   "metadata": {},
   "source": [
    "In this notebook, Data Science Tools and Ecosystem are summarized."
   ]
  },
  {
   "cell_type": "markdown",
   "id": "dffc68a6-314c-48f9-b3e8-b95e38f18115",
   "metadata": {},
   "source": [
    "Some of the popular languages that Data Scientists use are:\n",
    "Python\n",
    "R\n",
    "SQL\n",
    "Julia\n",
    "Java\n",
    "Scala\n",
    "MATLAB\n",
    "SAS\n",
    "Shell"
   ]
  },
  {
   "cell_type": "markdown",
   "id": "884834e2-a0a5-482c-9b11-8accd5251c90",
   "metadata": {},
   "source": [
    "Some of the commonly used libraries used by Data Scientists include:\n",
    "NumPy\n",
    "Pandas\n",
    "Matplotlib\n",
    "Seaborn\n",
    "Scikit-learn\n",
    "TensorFlow\n",
    "PyTorch\n",
    "Keras\n",
    "SciPy\n",
    "Statsmodels\n",
    "NLTK (Natural Language Toolkit)\n",
    "Beautiful Soup"
   ]
  },
  {
   "cell_type": "markdown",
   "id": "ddea33f5-8a6d-4f3d-970a-76b33688ef2a",
   "metadata": {},
   "source": [
    "Data Science Tools:\n",
    "Jupyter Notebooks\n",
    "RStudio\n",
    "Spyder\n",
    "IBM Watson Studio\n",
    "Google Colab\n",
    "KNIME\n",
    "Tableau\n",
    "Apache Hadoop\n",
    "Apache Spark\n"
   ]
  },
  {
   "cell_type": "markdown",
   "id": "68cdea04-b40c-4988-940a-8eed06575fd7",
   "metadata": {},
   "source": [
    "Below are a few examples of evaluating arithmetic expressions in Python:\n",
    "# Example 1: Basic arithmetic operations\n",
    "result1 = 5 + 3 * 2 / 4  # Result: 6.0\n",
    "print(result1)\n",
    "\n",
    "# Example 2: Parentheses for precedence\n",
    "result2 = (5 + 3) * 2 / 4  # Result: 4.0\n",
    "print(result2)\n",
    "\n",
    "# Example 3: Exponentiation\n",
    "result3 = 2 ** 3  # Result: 8\n",
    "print(result3)\n",
    "\n",
    "# Example 4: Modulo (remainder)\n",
    "result4 = 10 % 3  # Result: 1\n",
    "print(result4)\n",
    "\n",
    "# Example 5: Integer division\n",
    "result5 = 10 // 3  # Result: 3\n",
    "print(result5)\n",
    "\n"
   ]
  },
  {
   "cell_type": "code",
   "execution_count": 1,
   "id": "33d4b1a7-cf43-4d3a-ac9b-897bed089d57",
   "metadata": {
    "tags": []
   },
   "outputs": [
    {
     "data": {
      "text/plain": [
       "17"
      ]
     },
     "execution_count": 1,
     "metadata": {},
     "output_type": "execute_result"
    }
   ],
   "source": [
    "#This a simple arithmetic expression to mutiply then add integers\n",
    "r=(3*4)+5\n",
    "r\n"
   ]
  },
  {
   "cell_type": "code",
   "execution_count": 3,
   "id": "b14bd9f6-8f30-4c0a-8c99-ff772c28b9c4",
   "metadata": {
    "tags": []
   },
   "outputs": [
    {
     "data": {
      "text/plain": [
       "3.3333333333333335"
      ]
     },
     "execution_count": 3,
     "metadata": {},
     "output_type": "execute_result"
    }
   ],
   "source": [
    "#This will convert 200 minutes to hours by diving by 60.\n",
    "\n",
    "minutes_into_hours=200/60\n",
    "minutes_into_hours"
   ]
  },
  {
   "cell_type": "code",
   "execution_count": null,
   "id": "4e540584-1736-4929-8629-3793d33a7ff8",
   "metadata": {},
   "outputs": [],
   "source": [
    "#Author\n",
    "##Andrea\n"
   ]
  }
 ],
 "metadata": {
  "kernelspec": {
   "display_name": "Python 3 (ipykernel)",
   "language": "python",
   "name": "python3"
  },
  "language_info": {
   "codemirror_mode": {
    "name": "ipython",
    "version": 3
   },
   "file_extension": ".py",
   "mimetype": "text/x-python",
   "name": "python",
   "nbconvert_exporter": "python",
   "pygments_lexer": "ipython3",
   "version": "3.11.5"
  }
 },
 "nbformat": 4,
 "nbformat_minor": 5
}
